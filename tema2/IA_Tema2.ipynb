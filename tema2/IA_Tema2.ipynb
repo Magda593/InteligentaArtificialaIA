{
 "cells": [
  {
   "cell_type": "markdown",
   "id": "e0be6dae",
   "metadata": {},
   "source": [
    "#  Tema 2 \n",
    "\n",
    "#### Termen de predare: 18 octombrie 2022, ora 20:00."
   ]
  },
  {
   "cell_type": "markdown",
   "id": "003a41ae",
   "metadata": {},
   "source": [
    "### Precizări\n",
    "\n",
    "1. Se vor folosi **type annotations** pentru variabile, parametri tuturor funcțiilor, tipuri de retur. Se vor folosi **docstrings** pentru toate funcțiile. Neîndeplinirea acestei cerințe duce la înjumătățirea punctajului pentru exercițiul în cauză. \n",
    "1. Înainte de a trimite tema, verificați acoperirea cerințelor. \n"
   ]
  },
  {
   "cell_type": "markdown",
   "id": "ec9f8041",
   "metadata": {},
   "source": [
    "### Conținut\n",
    "\n",
    "1. Exercitii cu functii\n",
    "1. Exercitii cu NumPy"
   ]
  },
  {
   "cell_type": "markdown",
   "id": "795997bf",
   "metadata": {},
   "source": [
    "## Execiții cu funcții:\n"
   ]
  },
  {
   "cell_type": "markdown",
   "id": "35e71d74",
   "metadata": {},
   "source": [
    " (1p) 1. Să se scrie o funcție care primește ca parametru un număr de 5 cifre. Să se returneze o listă cu toate numerele prime formate din cifrele parametrului."
   ]
  },
  {
   "cell_type": "code",
   "execution_count": 25,
   "id": "2c192e03",
   "metadata": {},
   "outputs": [
    {
     "name": "stdout",
     "output_type": "stream",
     "text": [
      "12653\n",
      "15263\n",
      "16253\n",
      "21563\n",
      "25163\n",
      "26153\n",
      "26513\n",
      "23561\n",
      "51263\n",
      "52163\n",
      "52631\n",
      "52361\n",
      "56123\n",
      "61253\n",
      "62351\n",
      "65123\n",
      "65213\n",
      "63521\n",
      "32561\n",
      "36251\n"
     ]
    }
   ],
   "source": [
    "from typing import List\n",
    "\n",
    "def primeCheck(n:list) -> bool:\n",
    "    \"\"\"\n",
    "    A bool function in which I check whether a \n",
    "    number (recieved as string and converted to int)\n",
    "    is prime or not.\n",
    "    \"\"\"\n",
    "    n=int(n)\n",
    "    if n==1 or n==0 or (n % 2 == 0 and n > 2):\n",
    "        return False\n",
    "    else:\n",
    "        for i in range(3, int(n**(1/2))+1, 2):\n",
    "            if n%i == 0:\n",
    "                return False\n",
    "        return True\n",
    "\n",
    "def getPermutari(lst:list) -> list:\n",
    "    \"\"\"\n",
    "    A function that prints all the permutations of a \n",
    "    given list. If there is one element, one permutation is possible.\n",
    "    It returns a list.\n",
    "    \"\"\"\n",
    "    if len(lst) == 0:\n",
    "        return []\n",
    "    if len(lst) == 1:\n",
    "        return [lst]\n",
    "    l = []\n",
    "    for i in range(len(lst)):\n",
    "        m=lst[i]\n",
    "        restLst = lst[:i] + lst[i+1:]\n",
    "        for j in getPermutari(restLst):\n",
    "            l.append([m] + j)\n",
    "    return l\n",
    "\n",
    "numar:str = '12563'\n",
    "prime:List[str] = []\n",
    "lstNr1:list = list(numar)\n",
    "ok = 0\n",
    "for k in getPermutari(lstNr1):\n",
    "    a  = ''.join(k)\n",
    "    if(primeCheck(a) == True):\n",
    "        ok = 1\n",
    "        print(a)\n",
    "if ok == 0:\n",
    "    print(\"Nu sunt numere prime.\")\n",
    "# help(primeCheck)\n",
    "# help(getPermutari)\n"
   ]
  },
  {
   "cell_type": "markdown",
   "id": "7e42091c",
   "metadata": {},
   "source": [
    "(1p) 2. Scrieți o funcție care primește ca parametru o frază de maxim 12 cuvinte și care returnează un tuplu ce conține doar cuvintele palindroame. Un palindrom este un șir de caractere care citit de la dreapta la stânga are același continut ca si citirea de la stanga la dreapta."
   ]
  },
  {
   "cell_type": "code",
   "execution_count": 51,
   "id": "e6336b54",
   "metadata": {},
   "outputs": [
    {
     "name": "stdout",
     "output_type": "stream",
     "text": [
      "('ELE', 'SIS', 'YOY', 'ELEFACCAFELE')\n"
     ]
    }
   ],
   "source": [
    "import string \n",
    "\n",
    "def este_palindrom(s:str) -> bool:\n",
    "    \"\"\"\n",
    "    A bool function that will check if a string is palindrom or not. \n",
    "    \"\"\"\n",
    "    val = set(string.ascii_letters)\n",
    "    raspuns_s = ''.join(ch for ch in s if ch in val)\n",
    "    cf_s = raspuns_s.casefold()\n",
    "    return cf_s == cf_s[::-1]\n",
    "\n",
    "def tuplePal(x:list) ->tuple:\n",
    "    \"\"\"\n",
    "    Function that will check every word of the sentence\n",
    "    and if it's a palindrom it will put it in a list; \n",
    "    a list that will be converted to a tuple.\n",
    "    This function returns a tuple \n",
    "    \"\"\"\n",
    "    for i in range(len(x)):\n",
    "        if(este_palindrom(x[i])):\n",
    "            listaFinala.append(x[i])\n",
    "    tuple1:tuple = (*listaFinala,)\n",
    "    print(tuple1)\n",
    "\n",
    "s:str = \"ELE FAC CAFELE SIS TERMIN AZI YOY ELEFACCAFELE\"\n",
    "listaFinala:list =[]\n",
    "a:list = s.split(\" \")\n",
    "x:list = [str(i) for i in a]\n",
    "tuplePal(x)"
   ]
  },
  {
   "cell_type": "markdown",
   "id": "6a868f43",
   "metadata": {},
   "source": [
    "(1p) 3. Definiți o funcție care primește ca parametru o propoziție (string sau listă). Să se returneze un tuplu ce indică numărul de consoane, numărul de vocale și numărul de cifre din parametrul primit. Verificați dacă suma celor 3 valori formează un pătrat perfect."
   ]
  },
  {
   "cell_type": "code",
   "execution_count": 25,
   "id": "a8483fb7",
   "metadata": {},
   "outputs": [
    {
     "name": "stdout",
     "output_type": "stream",
     "text": [
      "('Numar vocale: ', 12, 'Numar consoane: ', 11, 'Numar numere: ', 2)\n",
      "25  este patrat perfect.\n"
     ]
    }
   ],
   "source": [
    "import string\n",
    "import math\n",
    "\n",
    "from numpy import double\n",
    "\n",
    "def formeazaPatrat(tpl:tuple) -> str:\n",
    "    \"\"\"\n",
    "    This function receives the tuple and checks if the sum\n",
    "    of those numbers is a perfect square or not. \n",
    "    \"\"\"\n",
    "    suma:int = tpl[1] + tpl[3] + tpl[5]\n",
    "    radacina:double = math.sqrt(suma)\n",
    "    if int(radacina + 0.5) **2 == suma:\n",
    "        print (suma, \" este patrat perfect.\")\n",
    "    else:\n",
    "        print (suma, \" nu este patrat perfect.\")\n",
    "\n",
    "\n",
    "def numarCaractere(lista:list) -> tuple:\n",
    "    \"\"\"\n",
    "    A function that check how many vowels, consonants and numbers\n",
    "    a sentance has; Receives a list and returns a tuple. \n",
    "    \"\"\"\n",
    "    vowels:str = \"aeiou\"\n",
    "    consonants:str = \"bcdfgjklmnpqstvxz\"\n",
    "    numbers:str = \"1234567890\"\n",
    "    nrVowels:int = 0\n",
    "    nrConsonants:int = 0\n",
    "    nrNumbers:int = 0\n",
    "    nmbrs:list = []\n",
    "    for word in lista:\n",
    "        stri:str = word\n",
    "        ct=0\n",
    "        for letter in word:\n",
    "            if(stri[ct] in vowels):\n",
    "                nrVowels = nrVowels + 1\n",
    "            if(stri[ct] in consonants):\n",
    "                nrConsonants = nrConsonants + 1\n",
    "            if(stri[ct] in numbers):\n",
    "                nrNumbers = nrNumbers + 1\n",
    "            ct = ct + 1\n",
    "    nmbrs.append('Numar vocale: ')\n",
    "    nmbrs.append(nrVowels)\n",
    "    nmbrs.append('Numar consoane: ')\n",
    "    nmbrs.append(nrConsonants)\n",
    "    nmbrs.append('Numar numere: ')\n",
    "    nmbrs.append(nrNumbers)\n",
    "    tuple1:tuple = (*nmbrs,)\n",
    "    return tuple1\n",
    "\n",
    "sentence:str = \"1 cuuii ppe 1 ccui see ssscoate\"\n",
    "lista:list = sentence.split(\" \")\n",
    "tpl:tuple = numarCaractere(lista)\n",
    "print(tpl)\n",
    "formeazaPatrat(tpl)\n",
    "\n",
    "# vowels = 12\n",
    "# consonants = 11\n",
    "# numbers = 2\n",
    "# formeazaPatrat = da/nu"
   ]
  },
  {
   "cell_type": "markdown",
   "id": "7e116648",
   "metadata": {},
   "source": [
    "(1p) 4. Să se scrie o funcție recursivă care determină dacă un număr se poate descompune în sumă de numere consecutive."
   ]
  },
  {
   "cell_type": "code",
   "execution_count": 26,
   "id": "0450f154",
   "metadata": {},
   "outputs": [
    {
     "name": "stdout",
     "output_type": "stream",
     "text": [
      "Se poate descompune\n"
     ]
    }
   ],
   "source": [
    "def esteSumaNrConsecutive(numar:int) -> bool:\n",
    "    \"\"\"\n",
    "    If the number can be put as a sum of consecutive\n",
    "    numbers the function will return true. We go by the rule that if a\n",
    "    number is a power of 2, then it's true\n",
    "    \"\"\"\n",
    "    return ((numar&(numar-1))and numar)\n",
    "\n",
    "numar:int = 10\n",
    "if(esteSumaNrConsecutive(numar)):\n",
    "    print(\"Se poate descompune\")\n",
    "else:\n",
    "    print(\"Nu se poate descompune\")\n",
    "\n",
    "# exemple: 10 -> True (1+2+3+4); 5 -> True (2+3); 16 -> False"
   ]
  },
  {
   "cell_type": "markdown",
   "id": "52b5d98e",
   "metadata": {},
   "source": [
    "## Probleme NumPy"
   ]
  },
  {
   "cell_type": "markdown",
   "id": "0ae82add",
   "metadata": {},
   "source": [
    "(0.5 p) 1. Se dă un vector NumPy. Să se determine lista elementelor unice. Formați o matrice pătratică de dimensiune  `len(v)/2` care să conțină elementele unice din vector.\n",
    "Completați cu cmmdc al elementelor unice pozițiile din matrice rămase libere.  "
   ]
  },
  {
   "cell_type": "code",
   "execution_count": 102,
   "id": "784b0a1a",
   "metadata": {},
   "outputs": [
    {
     "name": "stdout",
     "output_type": "stream",
     "text": [
      "[5 6 7 8 9]\n",
      "[5 6 7 8 9 1 1 1 1]\n",
      "[[5 6 7]\n",
      " [8 9 1]\n",
      " [1 1 1]]\n"
     ]
    }
   ],
   "source": [
    "import numpy as np\n",
    "\n",
    "def cmmdc(m:any,n:any) -> int:\n",
    "    \"\"\"\n",
    "    Functie ce imi returneaza cmmdc-ul a doua numere; \n",
    "    Returneaza un int.\n",
    "    \"\"\"\n",
    "    while n!=0:\n",
    "        rest=m%n\n",
    "        m=n\n",
    "        n=rest\n",
    "    return m\n",
    "\n",
    "lista:list = [5, 6, 7, 7, 8, 9, 5]\n",
    "vector:np.ndarray = np.array(lista)\n",
    "vectorUnic:np.ndarray = np.unique(vector)\n",
    "dim:int = int(len(vector)/2)\n",
    "print(vectorUnic)\n",
    "lista = vectorUnic.tolist()\n",
    "div = cmmdc(lista[0],lista[1])\n",
    "while(len(lista) != dim*dim):\n",
    "    lista.append(div)\n",
    "vectorUnic = np.array(lista)\n",
    "print(vectorUnic)\n",
    "mat = vectorUnic.reshape(dim,dim)\n",
    "print(mat)"
   ]
  },
  {
   "cell_type": "markdown",
   "id": "72ce9765",
   "metadata": {},
   "source": [
    "(1.5 p) 2. Se dau punctele de forma `An(5n, 8n+1)`. \n",
    "\n",
    "a) Verificați dacă punctele `An-1`, `An`,`An+1` formează un triunghi. <br>\n",
    "b) Verificați dacă punctele `A1`,`A2`,`An` sunt coliniare. <br>\n",
    "c) Scrieți ecuația dreptei `A1A2`.\n",
    "    \n",
    "   **Indicație**: Puteți folosi noțiunea de determinant."
   ]
  },
  {
   "cell_type": "code",
   "execution_count": 39,
   "id": "b6b36b53",
   "metadata": {},
   "outputs": [
    {
     "name": "stdout",
     "output_type": "stream",
     "text": [
      "Nu formeaza triunghi, dar sunt coliniare\n",
      "[[ 5  9]\n",
      " [10 17]\n",
      " [15 25]]\n",
      "8 x + -5 y = -5 \n",
      "\n"
     ]
    }
   ],
   "source": [
    "import numpy as np\n",
    "\n",
    "def checkTriangleAndCollinear(p1:tuple,p2:tuple,p3:tuple) -> None:\n",
    "    \"\"\"\n",
    "    This function checks if 3 given point can form a \n",
    "    triangle or not. It prints the specific message\n",
    "    \"\"\"\n",
    "    a = (p1[0] * (p2[1]-p3[1]) + p2[0] * (p3[1] - p1[1]) + p3[0] * (p1[1] - p2[1]))\n",
    "    if a==0:\n",
    "        print(\"Nu formeaza triunghi, dar sunt coliniare\")\n",
    "    else:\n",
    "        print(\"Formeaza triunghi, si nu sunt coliniare\")\n",
    "\n",
    "def ecuatiaDreptei(mat):\n",
    "    \"\"\"\n",
    "    Functie care o sa imi calculeze ecuatia dreptei a doua linii\n",
    "    \"\"\"\n",
    "    x1 = mat[0][0]\n",
    "    y1 = mat[0][1]\n",
    "    x2 = mat[1][0]\n",
    "    y2 = mat[1][1]\n",
    "    a= y2 - y1\n",
    "    b= x1 - x2\n",
    "    c = a * (x1) + b * (y1)\n",
    "    if(b<0):\n",
    "        print(a,\"x +\", b, \"y =\", c, \"\\n\")\n",
    "    else:\n",
    "        print(a,\"x +\", b, \"y =\", c, \"\\n\")\n",
    "\n",
    "p1:tuple = (5,9)\n",
    "p2:tuple = (10,17)\n",
    "p3:tuple = (15, 25)\n",
    "poi:tuple = (p1,p2,p3)\n",
    "\n",
    "checkTriangleAndCollinear(p1,p2,p3)\n",
    "mat:np.array= np.asarray(poi)\n",
    "print (mat)\n",
    "ecuatiaDreptei(mat)"
   ]
  },
  {
   "cell_type": "markdown",
   "id": "12d26223",
   "metadata": {},
   "source": [
    "(1p) 3. Pentru o matrice de numere să se determine suma dintre minimul si maximul elementelor de pe linii sau de pe coloane, în funcție de valoarea unui parametru de tip boolean `compute_on_columns`."
   ]
  },
  {
   "cell_type": "code",
   "execution_count": 75,
   "id": "0f0e3780",
   "metadata": {},
   "outputs": [
    {
     "name": "stdout",
     "output_type": "stream",
     "text": [
      "[1 4 7]\n",
      "[40 80  9]\n",
      "[41 84 16]\n",
      "\n",
      "\n",
      "[1 2 8]\n",
      "[ 9 11 80]\n",
      "[10 13 88]\n"
     ]
    }
   ],
   "source": [
    "import numpy as np\n",
    "\n",
    "def compute_on_columns(a):\n",
    "    \"\"\"\n",
    "    O functie care primeste ca parametru valoarea 1 sau 0 si\n",
    "    in functie de aceasta calculeaza minimile si maximele \n",
    "    de pe linii/coloane.\n",
    "    1 este pentru linii\n",
    "    0 este pentru coloane\n",
    "    \"\"\"\n",
    "    if a == 1:\n",
    "        minim:np.array = np.amin(mat, axis = a)\n",
    "        maxim:np.array = np.amax(mat, axis = a)\n",
    "    elif a==0:\n",
    "        minim:np.array = np.amin(mat, axis = a)\n",
    "        maxim:np.array = np.amax(mat, axis = a)\n",
    "    suma:np.array = minim + maxim\n",
    "    print(minim)\n",
    "    print(maxim)\n",
    "    print(suma)\n",
    "\n",
    "\n",
    "mat:np.array = np.array([[1,2,40], [4,11,80], [9,7,8]])\n",
    "compute_on_columns(1)\n",
    "print(\"\\n\")\n",
    "compute_on_columns(0)"
   ]
  },
  {
   "cell_type": "markdown",
   "id": "836e41e9",
   "metadata": {},
   "source": [
    "(1p) 4. Pentru un număr introdus de la tastaură, generați o matrice pătratică cu elemente aleatorii din intervalul `[0,2n]`. Calculați minimul elementelor de pe \n",
    "diagonala principală a matricei și maximul elementelor de pe diagonala secundară a matricei. Returnați rezultatele sub forma de tuplu."
   ]
  },
  {
   "cell_type": "code",
   "execution_count": null,
   "id": "23108306",
   "metadata": {},
   "outputs": [],
   "source": []
  },
  {
   "cell_type": "markdown",
   "id": "28d41c8f",
   "metadata": {},
   "source": [
    "(2p) 5. Descarcați setul de date Wine descris la 'http://archive.ics.uci.edu/ml/datasets/Wine', fișierul `wine.data`, și încărcați-l într-o matrice NumPy, \n",
    "folosind `np.genfromtxt`. Alegeți aleator 28 de poziții din cadrul matricei de valori, setați pe aceste pozitii `NaN`.  Construiți o funcție care, \n",
    "primind la intrare o matrice, returnează o colecție cu indicii de linii respectiv de coloane în care se găsesc valori `NaN`, precum si matricea 'corectată':  valorile `NaN` se umplu cu o valoare ca parametru al funcției. "
   ]
  },
  {
   "cell_type": "code",
   "execution_count": null,
   "id": "f98b75e2",
   "metadata": {},
   "outputs": [],
   "source": []
  }
 ],
 "metadata": {
  "kernelspec": {
   "display_name": "Python 3 (ipykernel)",
   "language": "python",
   "name": "python3"
  },
  "language_info": {
   "codemirror_mode": {
    "name": "ipython",
    "version": 3
   },
   "file_extension": ".py",
   "mimetype": "text/x-python",
   "name": "python",
   "nbconvert_exporter": "python",
   "pygments_lexer": "ipython3",
   "version": "3.8.13"
  },
  "toc": {
   "base_numbering": 1,
   "nav_menu": {},
   "number_sections": true,
   "sideBar": true,
   "skip_h1_title": false,
   "title_cell": "Table of Contents",
   "title_sidebar": "Contents",
   "toc_cell": false,
   "toc_position": {},
   "toc_section_display": true,
   "toc_window_display": false
  },
  "varInspector": {
   "cols": {
    "lenName": 16,
    "lenType": 16,
    "lenVar": 40
   },
   "kernels_config": {
    "python": {
     "delete_cmd_postfix": "",
     "delete_cmd_prefix": "del ",
     "library": "var_list.py",
     "varRefreshCmd": "print(var_dic_list())"
    },
    "r": {
     "delete_cmd_postfix": ") ",
     "delete_cmd_prefix": "rm(",
     "library": "var_list.r",
     "varRefreshCmd": "cat(var_dic_list()) "
    }
   },
   "types_to_exclude": [
    "module",
    "function",
    "builtin_function_or_method",
    "instance",
    "_Feature"
   ],
   "window_display": false
  },
  "vscode": {
   "interpreter": {
    "hash": "13662e36871e24c2eca3ad22f68e126507496c5b53122d6c55d6f7177fde0fa1"
   }
  }
 },
 "nbformat": 4,
 "nbformat_minor": 5
}
