{
 "cells": [
  {
   "cell_type": "markdown",
   "metadata": {},
   "source": [
    "# Tema 1\n",
    "Termen de predare: miercuri, 12 octombrie, ora 20\n",
    "\n",
    "Notebook-ul va fi rulat de sus în jos, complet, toate celulele.\n",
    "\n",
    "În caz de eroare, se punctează sarcinile/celulele rezolvate și rulate fără eroare, până în punctul întreruperii execuției."
   ]
  },
  {
   "cell_type": "markdown",
   "metadata": {},
   "source": [
    "1. (1p) Se dă o listă de numere. Să se retrurneze lista numerelor pare, în ordine inversă a aparițiilor.\n",
    "\n",
    "Exemplu: [23, 45, 4, 658, 8, 9, -4] => [-4, 8, 658, 4]"
   ]
  },
  {
   "cell_type": "code",
   "execution_count": 1,
   "metadata": {},
   "outputs": [
    {
     "name": "stdout",
     "output_type": "stream",
     "text": [
      "[-4, 8, 658, 4]\n"
     ]
    }
   ],
   "source": [
    "lista1 = [23, 45, 4, 658, 8, 9, -4]\n",
    "# variabila rezultat va fi  rezultat_lista_pare\n",
    "lista_inversa = lista1[7:0:-1]\n",
    "rezultat_lista_pare = []\n",
    "i=0\n",
    "while (i < len(lista_inversa)):\n",
    "    if(lista_inversa[i]%2==0):\n",
    "        rezultat_lista_pare.append(lista_inversa[i])\n",
    "    i=i+1\n",
    "\n",
    "print(rezultat_lista_pare)\n",
    "assert rezultat_lista_pare == [-4, 8, 658, 4], \"Rezultat asteptat: [-4, 8, 658, 4]\""
   ]
  },
  {
   "cell_type": "markdown",
   "metadata": {},
   "source": [
    "2. (1p) Se dă o listă de numere. Să se afișeze: suma dintre maximul numerelor pare și minumul numerelor impare."
   ]
  },
  {
   "cell_type": "code",
   "execution_count": 2,
   "metadata": {
    "scrolled": true
   },
   "outputs": [
    {
     "name": "stdout",
     "output_type": "stream",
     "text": [
      "83\n"
     ]
    }
   ],
   "source": [
    "lista2 = [4, 5, 6, 78, 43, 57, 68]\n",
    "parmx = -9999\n",
    "imparmn = 9999\n",
    "i=0\n",
    "while(i<len(lista2)):\n",
    "    if(lista2[i]%2==0 and lista2[i]>parmx):\n",
    "        parmx= lista2[i]\n",
    "    elif(lista2[i]%2!=0 and lista2[i]<imparmn):\n",
    "        imparmn = lista2[i]\n",
    "    i=i+1\n",
    "rezultat = parmx + imparmn\n",
    "print(rezultat)\n",
    "\n",
    "assert rezultat == 83, \"Rezultat asteptat: 83\""
   ]
  },
  {
   "cell_type": "markdown",
   "metadata": {},
   "source": [
    " 3. (1p) Fiind data o lista de cuvinte, să se returneze lista care contine cvintele care NU incep cu litera L, sortate in ordine alfabetica."
   ]
  },
  {
   "cell_type": "code",
   "execution_count": 3,
   "metadata": {},
   "outputs": [
    {
     "name": "stdout",
     "output_type": "stream",
     "text": [
      "['alfabet', 'are', 'barca', 'carte', 'inima', 'maxim']\n"
     ]
    }
   ],
   "source": [
    "lista_cuvinte=[\"lamaie\", \"maxim\", \"alfabet\",\"carte\", \"inima\", \"barca\", \"lacusta\", \"are\"]\n",
    "lista_cuvinte.sort()\n",
    "cuvinte_fara_L_alfabetic = []\n",
    "# print(lista_cuvinte)\n",
    "i=0\n",
    "while i < len(lista_cuvinte):\n",
    "    var = lista_cuvinte[i]\n",
    "    if(var[0]!='l'):\n",
    "        cuvinte_fara_L_alfabetic.append(lista_cuvinte[i])\n",
    "    i=i+1\n",
    "print(cuvinte_fara_L_alfabetic)\n",
    "assert cuvinte_fara_L_alfabetic == ['alfabet', 'are', 'barca', 'carte', 'inima', 'maxim'], \"Rezultat asteptat: ['alfabet', 'are', 'barca', 'carte', 'inima', 'maxim']\"\n"
   ]
  },
  {
   "cell_type": "markdown",
   "metadata": {},
   "source": [
    "4. (2p) Se da o listă de dicționare în care cheile sunt mâncăruri iar valorile sunt ingrediente. Să se returneze:\n",
    "\t1. Felurile de mâncare care nu conțin un ingredient dat.\n",
    "\t2. Felurile de mâncare care conțin (dar nu coincid cu) o lista de ingrediente data.\n",
    "\t3. Felul de mâncare cu cele mai multe ingrediente.\n",
    "\t4. Toate perechile de mâncăruri A, B pentru care lista de ingrediente a lui A este inclusă in (dar nu coincide cu) lista de ingrediente a lui B.\n",
    "\n",
    "\tIndicație: folosiți tipul de date *set*."
   ]
  },
  {
   "cell_type": "code",
   "execution_count": 4,
   "metadata": {},
   "outputs": [
    {
     "name": "stdout",
     "output_type": "stream",
     "text": [
      "['cartofi_prajiti', 'savarina']\n",
      "['musaca']\n",
      "['ciorba_vacuta']\n",
      "( tocana , cartofi_prajiti )\n",
      "( ciorba_vacuta , tocana )\n",
      "( ciorba_vacuta , cartofi_prajiti )\n"
     ]
    }
   ],
   "source": [
    "mancaruri = {\n",
    "    \"tocana\": [\"cartofi\", \"carne\", \"rosii\", \"ceapa\", \"ulei\"],\n",
    "    \"cartofi_prajiti\" : [\"cartofi\", \"ulei\"],\n",
    "    \"ciorba_vacuta\" : [\"ulei\", \"ceapa\", \"ulei\",\"carne\", \"rosii\", \"cartofi\", \"morcovi\", \"telina\"],\n",
    "    \"savarina\":[\"oua\", \"faina\", \"zahar\", \"frisca\"], \n",
    "    \"musaca\": [\"carne\", \"oua\", \"branza\", \"ceapa\", \"smantana\"]\n",
    "}\n",
    "# 1. Felurile de mancare care nu contin un ingredient dat.\n",
    "ingredient = \"carne\"\n",
    "mancare_fara_ingredient = []\n",
    "for key in mancaruri:\n",
    "    if (ingredient not in mancaruri[key]):\n",
    "        mancare_fara_ingredient.append(key)\n",
    "print(mancare_fara_ingredient)\n",
    "assert mancare_fara_ingredient == ['cartofi_prajiti', 'savarina'], \"Rezultat asteptat: ['cartofi_prajiti', 'savarina'] \"\n",
    "\n",
    "# 2. Felurile de mancare care contin (dar nu coincid cu) o lista de ingrediente data.\n",
    "mancaruri_cu_ingrediente_cerute = []\n",
    "ingrediente_cerute=[\"carne\", \"oua\"]\n",
    "for key in mancaruri:\n",
    "    if (ingrediente_cerute[0] in mancaruri[key] and ingrediente_cerute[1] in mancaruri[key] and mancaruri[key]!=ingrediente_cerute):\n",
    "        mancaruri_cu_ingrediente_cerute.append(key)\n",
    "print (mancaruri_cu_ingrediente_cerute)\n",
    "\n",
    "# mancaruri-cu_ingrediente_cerute = ['musaca']\n",
    "\n",
    "# 3. Felul de mâncare cu cele mai multe ingrediente.\n",
    "ct = 0\n",
    "mancare_cu_ingrediente_max = []\n",
    "for key in mancaruri:\n",
    "    numar = len(mancaruri[key])\n",
    "    if(numar>ct): \n",
    "        ct=numar\n",
    "        mancare_max = key\n",
    "mancare_cu_ingrediente_max.append(mancare_max)\n",
    "print(mancare_cu_ingrediente_max)\n",
    "# mancare_cu_ingrediente_max = ['ciorba_vacuta']\n",
    "\n",
    "# 4. Toate perechile de mâncăruri A, B pentru care lista de ingrediente a lui A este inclusă in (dar nu coincide cu) \n",
    "# lista de ingrediente a lui B. \n",
    "#  raspuns: (tocana, ciorba_vacuta), (cartofi_prajti, tocana), (cartofi-prajiti, ciorba_vacuta)\n",
    "\n",
    "for key in mancaruri:\n",
    "    for key2 in mancaruri:\n",
    "        if(mancaruri[key]!=mancaruri[key2] and all(item in mancaruri[key] for item in mancaruri[key2])):\n",
    "            print ('(',key, \",\", key2, ')')\n",
    "            "
   ]
  },
  {
   "cell_type": "markdown",
   "metadata": {},
   "source": [
    "5. (2p) Fiind dată o listă de cuvinte:\n",
    "    1. Înlocuiți vocalele cu '*'.\n",
    "    2. Determinați cuvintele cu cele mai multe vocale.\n",
    "    3. Înlocuiți consoanele cu prima literă a cuvântului.\n",
    "    4. Determinați cuvintele ce conțin cel puțin 3 litere comune cu un cuvânt dat."
   ]
  },
  {
   "cell_type": "code",
   "execution_count": 5,
   "metadata": {},
   "outputs": [
    {
     "name": "stdout",
     "output_type": "stream",
     "text": [
      "['*n*', 'm*r*', '*l*n*']\n",
      "elena\n",
      "['aaa', 'meme', 'eeeea']\n",
      "elena\n"
     ]
    }
   ],
   "source": [
    "cuvinte = ['ana', 'mere', 'elena']\n",
    "# 1. Înlocuiți vocalele cu '*'.\n",
    "# răspuns: ['*n*', 'm*r*', '*l*n*']\n",
    "vowels = 'aeiou'\n",
    "rsp = []\n",
    "for word in cuvinte:\n",
    "    stri = word\n",
    "    ct=0\n",
    "    for letter in word:\n",
    "        if (stri[ct] in vowels):\n",
    "            stri = stri.replace(letter, '*')\n",
    "        ct=ct+1\n",
    "    rsp.append(stri)\n",
    "print(rsp)\n",
    "\n",
    "# 2. Determinați cuvintele cu cele mai multe vocale.\n",
    "# răspuns: elena\n",
    "stri = ''\n",
    "vowels = 'aeiou'\n",
    "mx = 0\n",
    "for word in cuvinte:\n",
    "    stri = word\n",
    "    final = [each for each in stri if each in vowels]\n",
    "    if(len(final)>mx):\n",
    "        mx = len(final)\n",
    "        rsp = word\n",
    "print(rsp)\n",
    "\n",
    "\n",
    "# 3. Înlocuiți consoanele cu prima literă a cuvântului.\n",
    "# răspuns: ['aaa', 'meme', 'eeeea']\n",
    "stri = ''\n",
    "vowels = 'aeiou'\n",
    "raspuns = []\n",
    "for word in cuvinte:\n",
    "    stri = word\n",
    "    prima_litera = stri[0]\n",
    "    ct=0\n",
    "    for letter in word:\n",
    "        if (stri[ct] not in vowels):\n",
    "            stri = stri.replace(letter, prima_litera)\n",
    "        ct=ct+1\n",
    "    raspuns.append(stri)\n",
    "print(raspuns)\n",
    "\n",
    "# 4. Determinați cuvintele ce conțin cel puțin 3 litere comune cu un cuvânt dat.\n",
    "# cuvant_dat = 'lenes' => răspuns: 'elena'\n",
    "# cuvant_dat = 'camere' => răspuns: 'mere'\n",
    "cuvant_dat = 'lenes'\n",
    "nrLitereMinime = 3\n",
    "for word in cuvinte:\n",
    "    stri = word\n",
    "    ct=0\n",
    "    avem=0\n",
    "    for letter in word:\n",
    "        if(stri[ct] in cuvant_dat):\n",
    "            avem = avem + 1\n",
    "        ct=ct+1\n",
    "    if(avem >= nrLitereMinime):\n",
    "        print(word)"
   ]
  },
  {
   "cell_type": "markdown",
   "metadata": {},
   "source": [
    "6. (1p) Fiind dat un dicționar în care cheia este un cuvânt, iar valoarea este partea de propoziție (funcții sintactice), returnați toate combinaiile care pot deveni propoziții, de forma :\n",
    "   S+P+C sau S+A+P+C sau S+P sau S+A+P unde \n",
    "    * S -> subiect\n",
    "\t* A -> atribut\n",
    "\t* P -> predicat\n",
    "\t* C -> complement"
   ]
  },
  {
   "cell_type": "code",
   "execution_count": 6,
   "metadata": {},
   "outputs": [
    {
     "name": "stdout",
     "output_type": "stream",
     "text": [
      "Ana  +  are\n",
      "Ana  +  sunt\n",
      "copiii  +  are\n",
      "copiii  +  sunt\n",
      "Ana  +  rosii  +  are\n",
      "Ana  +  rosii  +  sunt\n",
      "copiii  +  rosii  +  are\n",
      "copiii  +  rosii  +  sunt\n",
      "Ana  +  are  +  mere\n",
      "Ana  +  are  +  acolo\n",
      "Ana  +  sunt  +  mere\n",
      "Ana  +  sunt  +  acolo\n",
      "copiii  +  are  +  mere\n",
      "copiii  +  are  +  acolo\n",
      "copiii  +  sunt  +  mere\n",
      "copiii  +  sunt  +  acolo\n",
      "Ana  +  rosii  +  are  +  mere\n",
      "Ana  +  rosii  +  are  +  acolo\n",
      "Ana  +  rosii  +  sunt  +  mere\n",
      "Ana  +  rosii  +  sunt  +  acolo\n",
      "copiii  +  rosii  +  are  +  mere\n",
      "copiii  +  rosii  +  are  +  acolo\n",
      "copiii  +  rosii  +  sunt  +  mere\n",
      "copiii  +  rosii  +  sunt  +  acolo\n"
     ]
    }
   ],
   "source": [
    "propozitii={\n",
    "    'Ana' : 'S',\n",
    "    'are' : 'P',\n",
    "    'mere' : 'C',\n",
    "    'rosii' : 'A',\n",
    "    'sunt' : 'P',\n",
    "    'acolo':'C',\n",
    "    'copiii': 'S'\n",
    "}\n",
    "# răspuns: \n",
    "# 'Ana' + 'are' + 'mere'\n",
    "# 'Ana' + 'are' + ' acolo'\n",
    "# 'copiii' + 'sunt' + 'acolo'\n",
    "# 'copiii' + 'sunt'\n",
    "# 'copiii' + 'rosii' + 'sunt' + 'acolo' \n",
    "# etc.\n",
    "\n",
    "# S + P\n",
    "for i in propozitii:\n",
    "    for j in propozitii:\n",
    "        if (propozitii[i] == 'S' and propozitii[j] == 'P'):\n",
    "            print(i, \" + \", j)\n",
    "# S + A + P\n",
    "for i in propozitii:\n",
    "    for j in propozitii:\n",
    "        for k in propozitii:\n",
    "            if (propozitii[i] == 'S' and propozitii[j] == 'A' and propozitii[k] == 'P'):\n",
    "                print(i, \" + \", j, \" + \", k)\n",
    "# S + P + C\n",
    "for i in propozitii:\n",
    "    for j in propozitii:\n",
    "        for k in propozitii:\n",
    "            if (propozitii[i] == 'S' and propozitii[j] == 'P' and propozitii[k] == 'C'):\n",
    "                print(i, \" + \", j, \" + \", k)\n",
    "# S + A + P + C\n",
    "for i in propozitii:\n",
    "    for j in propozitii:\n",
    "        for k in propozitii:\n",
    "            for l in propozitii:\n",
    "                if (propozitii[i] == 'S' and propozitii[j] == 'A' and propozitii[k] == 'P' and propozitii[l] == 'C'):\n",
    "                    print(i, \" + \", j, \" + \", k, \" + \", l)"
   ]
  },
  {
   "cell_type": "markdown",
   "metadata": {},
   "source": [
    "7. (1p) Să se verifice dacă o propoziție dată este palindrom sau nu (fără a lua în considerare semnele de punctuație sau diacriticele).\n",
    "\n",
    "Exemple:\n",
    "\n",
    "    1. ELE FAC CAFELE.\n",
    "    2. ALA E SERGIU, NU-I GRESEALA.\n",
    "    3. AI RAMAS ACASA, MARIA?"
   ]
  },
  {
   "cell_type": "code",
   "execution_count": 10,
   "metadata": {},
   "outputs": [
    {
     "name": "stdout",
     "output_type": "stream",
     "text": [
      "True\n",
      "True\n",
      "True\n",
      "False\n"
     ]
    }
   ],
   "source": [
    "import string \n",
    "s=\"ELE FAC CAFELE.\"\n",
    "s2=\"ALA E SERGIU, NU-I GRESEALA.\"\n",
    "s3=\"AI RAMAS ACASA, MARIA?\"\n",
    "s4=\"HELLO\"\n",
    "\n",
    "def este_palindrom(s):\n",
    "    val = set(string.ascii_letters)\n",
    "    raspuns_s = ''.join(ch for ch in s if ch in val)\n",
    "    cf_s = raspuns_s\n",
    "    return cf_s == cf_s[::-1]\n",
    "\n",
    "print(este_palindrom(s))\n",
    "print(este_palindrom(s2))\n",
    "print(este_palindrom(s3))\n",
    "print(este_palindrom(s4))"
   ]
  },
  {
   "cell_type": "code",
   "execution_count": null,
   "metadata": {},
   "outputs": [],
   "source": []
  }
 ],
 "metadata": {
  "kernelspec": {
   "display_name": "Python 3 (ipykernel)",
   "language": "python",
   "name": "python3"
  },
  "language_info": {
   "codemirror_mode": {
    "name": "ipython",
    "version": 3
   },
   "file_extension": ".py",
   "mimetype": "text/x-python",
   "name": "python",
   "nbconvert_exporter": "python",
   "pygments_lexer": "ipython3",
   "version": "3.8.13"
  },
  "toc": {
   "base_numbering": 1,
   "nav_menu": {},
   "number_sections": true,
   "sideBar": true,
   "skip_h1_title": false,
   "title_cell": "Table of Contents",
   "title_sidebar": "Contents",
   "toc_cell": false,
   "toc_position": {},
   "toc_section_display": true,
   "toc_window_display": false
  },
  "varInspector": {
   "cols": {
    "lenName": 16,
    "lenType": 16,
    "lenVar": 40
   },
   "kernels_config": {
    "python": {
     "delete_cmd_postfix": "",
     "delete_cmd_prefix": "del ",
     "library": "var_list.py",
     "varRefreshCmd": "print(var_dic_list())"
    },
    "r": {
     "delete_cmd_postfix": ") ",
     "delete_cmd_prefix": "rm(",
     "library": "var_list.r",
     "varRefreshCmd": "cat(var_dic_list()) "
    }
   },
   "types_to_exclude": [
    "module",
    "function",
    "builtin_function_or_method",
    "instance",
    "_Feature"
   ],
   "window_display": false
  },
  "vscode": {
   "interpreter": {
    "hash": "bea26f8812e42ba5c6ca1637e0db504a2bf106cdbba6333c992470b7c2557035"
   }
  }
 },
 "nbformat": 4,
 "nbformat_minor": 2
}
